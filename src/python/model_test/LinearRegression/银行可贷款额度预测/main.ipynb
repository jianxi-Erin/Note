{
 "cells": [
  {
   "cell_type": "markdown",
   "metadata": {},
   "source": [
    "\n",
    "# 线性回归例子\n",
    "## 银行贷款预测系统:通过贷款人的信息预测可贷款额度\n"
   ]
  },
  {
   "cell_type": "code",
   "execution_count": 25,
   "metadata": {},
   "outputs": [],
   "source": [
    "\n",
    "import pandas as pd\n",
    "import numpy as np\n",
    "import matplotlib.pyplot as plt\n",
    "from sklearn.linear_model import LinearRegression\n",
    "from sklearn.model_selection import train_test_split\n",
    "from sklearn.metrics import mean_squared_error, r2_score\n"
   ]
  },
  {
   "cell_type": "code",
   "execution_count": null,
   "metadata": {},
   "outputs": [],
   "source": [
    "# 1. 读取数据\n",
    "data = pd.read_csv(\"loan_dataset.csv\")\n",
    "print(\"数据预览：\")\n",
    "print(data.head())"
   ]
  },
  {
   "cell_type": "code",
   "execution_count": 27,
   "metadata": {},
   "outputs": [],
   "source": [
    "# 2. 提取特征和目标变量\n",
    "X = data[[\"Age\",\"Income\",\"Credit Score\"]].values\n",
    "y = data[\"Loan Amount\"].values"
   ]
  },
  {
   "cell_type": "code",
   "execution_count": 28,
   "metadata": {},
   "outputs": [],
   "source": [
    "# 3. 划分训练集和测试集\n",
    "#  数据归一化（标准化）\n",
    "scaler = StandardScaler()\n",
    "X_scaled = scaler.fit_transform(X)\n",
    "\n",
    "X_train, X_test, y_train, y_test = train_test_split(X, y, test_size=0.2, random_state=42)\n"
   ]
  },
  {
   "cell_type": "code",
   "execution_count": null,
   "metadata": {},
   "outputs": [],
   "source": [
    "# 4. 创建线性回归模型\n",
    "model = LinearRegression()\n",
    "model.fit(X_train, y_train)  # 训练模型"
   ]
  },
  {
   "cell_type": "code",
   "execution_count": null,
   "metadata": {},
   "outputs": [],
   "source": [
    "# 5. 预测\n",
    "y_pred_train = model.predict(X_train)  # 训练集预测\n",
    "y_pred_test = model.predict(X_test)    # 测试集预测\n",
    "print('训练集预测结果：', y_pred_train)\n",
    "print('训练集实际结果：', y_train)\n",
    "print('测试集预测结果：', y_pred_test)\n",
    "print('测试集实际结果：', y_test)\n"
   ]
  },
  {
   "cell_type": "code",
   "execution_count": null,
   "metadata": {},
   "outputs": [],
   "source": [
    "# 6. 评估模型\n",
    "mse_train = mean_squared_error(y_train, y_pred_train)\n",
    "mse_test = mean_squared_error(y_test, y_pred_test)\n",
    "r2_train = r2_score(y_train, y_pred_train)\n",
    "r2_test = r2_score(y_test, y_pred_test)\n",
    "\n",
    "print(f\"训练集均方误差 (MSE): {mse_train}\")\n",
    "print(f\"测试集均方误差 (MSE): {mse_test}\")\n",
    "print(f\"训练集 R² 分数: {r2_train}\")\n",
    "print(f\"测试集 R² 分数: {r2_test}\")"
   ]
  },
  {
   "cell_type": "code",
   "execution_count": null,
   "metadata": {},
   "outputs": [],
   "source": [
    "# 7. 可视化结果\n",
    "# 由于是多特征数据，我们选择一个特征（如年龄）进行可视化\n",
    "import matplotlib.pyplot as plt\n",
    "import matplotlib\n",
    "\n",
    "# 设置全局字体为支持中文的字体\n",
    "matplotlib.rcParams['font.family'] = 'SimHei'  # Windows 系统使用黑体\n",
    "matplotlib.rcParams['font.size'] = 12  # 设置字体大小\n",
    "matplotlib.rcParams['axes.unicode_minus'] = False  # 正确显示负号\n",
    "plt.figure(figsize=(10, 6))\n",
    "plt.scatter(data[\"Age\"], data[\"Loan Amount\"], color=\"blue\", label=\"实际数据\")\n",
    "plt.plot(data[\"Age\"], model.predict(X), color=\"red\", linewidth=2, label=\"回归线\")\n",
    "plt.xlabel(\"Age\")\n",
    "plt.ylabel(\"Loan Amount)\")\n",
    "plt.title(\"线性回归拟合结果\")\n",
    "plt.legend()\n",
    "plt.show()"
   ]
  }
 ],
 "metadata": {
  "kernelspec": {
   "display_name": "pytorch-cpu",
   "language": "python",
   "name": "python3"
  },
  "language_info": {
   "codemirror_mode": {
    "name": "ipython",
    "version": 3
   },
   "file_extension": ".py",
   "mimetype": "text/x-python",
   "name": "python",
   "nbconvert_exporter": "python",
   "pygments_lexer": "ipython3",
   "version": "3.8.1"
  }
 },
 "nbformat": 4,
 "nbformat_minor": 2
}
