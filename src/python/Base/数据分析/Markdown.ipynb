{
 "cells": [
  {
   "cell_type": "markdown",
   "id": "49998707",
   "metadata": {},
   "source": [
    "# #标题"
   ]
  },
  {
   "cell_type": "markdown",
   "id": "bf526b1c",
   "metadata": {},
   "source": [
    "## ##二级标题"
   ]
  },
  {
   "cell_type": "markdown",
   "id": "a6f8ba32",
   "metadata": {},
   "source": [
    "### ###三级标题"
   ]
  },
  {
   "cell_type": "markdown",
   "id": "89c0e835",
   "metadata": {},
   "source": [
    "1. 1.有序列表"
   ]
  },
  {
   "cell_type": "markdown",
   "id": "42591fd7",
   "metadata": {},
   "source": [
    "2. 2.有序列表"
   ]
  },
  {
   "cell_type": "markdown",
   "id": "3b02b534",
   "metadata": {},
   "source": [
    "3. 3.有序列表"
   ]
  },
  {
   "cell_type": "markdown",
   "id": "98ed0ecc",
   "metadata": {},
   "source": [
    "* *+=无序列表"
   ]
  },
  {
   "cell_type": "markdown",
   "id": "f8d62fbe",
   "metadata": {},
   "source": [
    "* *+=无序列表"
   ]
  },
  {
   "cell_type": "markdown",
   "id": "e6690686",
   "metadata": {},
   "source": [
    "**粗体**"
   ]
  },
  {
   "cell_type": "markdown",
   "id": "bad35a28",
   "metadata": {},
   "source": [
    "***斜体***"
   ]
  },
  {
   "cell_type": "markdown",
   "id": "37e2f251",
   "metadata": {},
   "source": [
    "|a|b|c|\n",
    "|---|---|---|\n",
    "|sdcsd|sdcsdc|sdcsdc|\n",
    "|sdcsd|sdcsdc|sdcsdc|"
   ]
  },
  {
   "cell_type": "code",
   "execution_count": null,
   "id": "7ebf198a",
   "metadata": {},
   "outputs": [],
   "source": []
  }
 ],
 "metadata": {
  "kernelspec": {
   "display_name": "Python 3 (ipykernel)",
   "language": "python",
   "name": "python3"
  },
  "language_info": {
   "codemirror_mode": {
    "name": "ipython",
    "version": 3
   },
   "file_extension": ".py",
   "mimetype": "text/x-python",
   "name": "python",
   "nbconvert_exporter": "python",
   "pygments_lexer": "ipython3",
   "version": "3.9.7"
  }
 },
 "nbformat": 4,
 "nbformat_minor": 5
}
